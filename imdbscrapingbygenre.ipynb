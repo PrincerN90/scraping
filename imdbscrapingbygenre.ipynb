{
 "cells": [
  {
   "cell_type": "code",
   "execution_count": 1,
   "metadata": {},
   "outputs": [],
   "source": [
    "import urllib.request as req\n",
    "from bs4 import BeautifulSoup as soup\n",
    "import re,json"
   ]
  },
  {
   "cell_type": "code",
   "execution_count": 2,
   "metadata": {},
   "outputs": [
    {
     "name": "stdin",
     "output_type": "stream",
     "text": [
      " adult\n"
     ]
    }
   ],
   "source": [
    "url = \"https://www.imdb.com/search/title/?genres={}\".format(input())"
   ]
  },
  {
   "cell_type": "code",
   "execution_count": 3,
   "metadata": {},
   "outputs": [],
   "source": [
    "page = soup(req.urlopen(url),'html.parser')"
   ]
  },
  {
   "cell_type": "code",
   "execution_count": 4,
   "metadata": {},
   "outputs": [],
   "source": [
    "dt = page.findAll('div',{'class' : 'lister-item-content'})"
   ]
  },
  {
   "cell_type": "code",
   "execution_count": 5,
   "metadata": {},
   "outputs": [],
   "source": [
    "file = open('file.json','w')"
   ]
  },
  {
   "cell_type": "code",
   "execution_count": 6,
   "metadata": {},
   "outputs": [],
   "source": [
    "js = { 'data' : []}\n",
    "for i in dt:\n",
    "    title = i.a\n",
    "    genre = i.p.find('span',{'class':'genre'})\n",
    "    rating = i.strong\n",
    "    star = \"\".join([j.text+\"\\n\" if j is not None else \"\" for j in i.findAll('a',{'href':re.compile(r'/name/')})])\n",
    "    desp = i.find_all('p',{'class':'text-muted'})[-1]\n",
    "    vote = i.find('span',{'name':'nv'})\n",
    "    data = {\n",
    "        \"Title\" : \"{}\".format(title.text if title is not None else ''),\n",
    "        \"Genre\" : \"{}\".format(genre.text.strip() if genre is not None else ''),\n",
    "        \"Rating\" : \"{}\".format(rating.text if rating is not None else ''),\n",
    "        \"Stars\" : \"{}\".format(star),\n",
    "        \"Description\" : \"{}\".format(desp.text.strip() if desp is not None else ''),\n",
    "        \"Votes\" : \"{}\".format(vote.text if vote is not None else '')\n",
    "    }\n",
    "    js['data'].append(data)"
   ]
  },
  {
   "cell_type": "code",
   "execution_count": 7,
   "metadata": {},
   "outputs": [],
   "source": [
    "file.write(json.dumps(js))\n",
    "file.close()"
   ]
  },
  {
   "cell_type": "code",
   "execution_count": null,
   "metadata": {},
   "outputs": [],
   "source": []
  }
 ],
 "metadata": {
  "kernelspec": {
   "display_name": "Python 3",
   "language": "python",
   "name": "python3"
  },
  "language_info": {
   "codemirror_mode": {
    "name": "ipython",
    "version": 3
   },
   "file_extension": ".py",
   "mimetype": "text/x-python",
   "name": "python",
   "nbconvert_exporter": "python",
   "pygments_lexer": "ipython3",
   "version": "3.7.3"
  }
 },
 "nbformat": 4,
 "nbformat_minor": 4
}
